{
  "cells": [
    {
      "cell_type": "code",
      "execution_count": null,
      "metadata": {
        "id": "h3mCTbLVyR03"
      },
      "outputs": [],
      "source": [
        "!rm -rf test\n",
        "!rm -rf valid\n",
        "# mappa teljes törlése"
      ]
    },
    {
      "cell_type": "code",
      "execution_count": null,
      "metadata": {
        "id": "6cv3K3oaksJv"
      },
      "outputs": [],
      "source": [
        "!pip install -q tflite-model-maker"
      ]
    },
    {
      "cell_type": "code",
      "execution_count": null,
      "metadata": {
        "id": "XtxiUeZEiXpt"
      },
      "outputs": [],
      "source": [
        "import os\n",
        "\n",
        "import numpy as np\n",
        "\n",
        "import tensorflow as tf\n",
        "assert tf.__version__.startswith('2')\n",
        "\n",
        "from tflite_model_maker import model_spec\n",
        "#from tflite_model_maker import image_classifier\n",
        "from tflite_model_maker import object_detector\n",
        "from tflite_model_maker.config import ExportFormat\n",
        "from tflite_model_maker.config import QuantizationConfig\n",
        "from tflite_model_maker.image_classifier import DataLoader\n",
        "\n",
        "import matplotlib.pyplot as plt\n",
        "import matplotlib.image as mpimg"
      ]
    },
    {
      "cell_type": "markdown",
      "metadata": {
        "id": "xazfJdYV1uua"
      },
      "source": [
        "# **Kaggle**"
      ]
    },
    {
      "cell_type": "code",
      "execution_count": null,
      "metadata": {
        "cellView": "form",
        "colab": {
          "base_uri": "https://localhost:8080/"
        },
        "id": "3jz5x0JoskPv",
        "outputId": "ca608a90-7e64-4a98-bbfa-0f9b79971bdf"
      },
      "outputs": [
        {
          "name": "stdout",
          "output_type": "stream",
          "text": [
            "Requirement already satisfied: kaggle in /usr/local/lib/python3.7/dist-packages (1.5.12)\n",
            "Requirement already satisfied: six>=1.10 in /usr/local/lib/python3.7/dist-packages (from kaggle) (1.15.0)\n",
            "Requirement already satisfied: requests in /usr/local/lib/python3.7/dist-packages (from kaggle) (2.23.0)\n",
            "Requirement already satisfied: certifi in /usr/local/lib/python3.7/dist-packages (from kaggle) (2021.10.8)\n",
            "Requirement already satisfied: urllib3 in /usr/local/lib/python3.7/dist-packages (from kaggle) (1.24.3)\n",
            "Requirement already satisfied: tqdm in /usr/local/lib/python3.7/dist-packages (from kaggle) (4.63.0)\n",
            "Requirement already satisfied: python-dateutil in /usr/local/lib/python3.7/dist-packages (from kaggle) (2.8.2)\n",
            "Requirement already satisfied: python-slugify in /usr/local/lib/python3.7/dist-packages (from kaggle) (6.1.1)\n",
            "Requirement already satisfied: text-unidecode>=1.3 in /usr/local/lib/python3.7/dist-packages (from python-slugify->kaggle) (1.3)\n",
            "Requirement already satisfied: chardet<4,>=3.0.2 in /usr/local/lib/python3.7/dist-packages (from requests->kaggle) (3.0.4)\n",
            "Requirement already satisfied: idna<3,>=2.5 in /usr/local/lib/python3.7/dist-packages (from requests->kaggle) (2.10)\n",
            "Downloading chess-pieces.zip to /content\n",
            "100% 1.05G/1.05G [00:11<00:00, 136MB/s]\n",
            "100% 1.05G/1.05G [00:11<00:00, 95.2MB/s]\n"
          ]
        }
      ],
      "source": [
        "!pip install kaggle\n",
        "!mkdir ~/.kaggle\n",
        "!cp kaggle.json ~/.kaggle/\n",
        "!chmod 600 ~/.kaggle/kaggle.json\n",
        "#!kaggle datasets download -d gpiosenka/100-bird-species\n",
        "!kaggle datasets download -d vvvalter/chess-pieces\n",
        "#!unzip 100-bird-species.zip"
      ]
    },
    {
      "cell_type": "markdown",
      "metadata": {
        "id": "8jdU1LyD12u-"
      },
      "source": [
        "# **Roboflow**"
      ]
    },
    {
      "cell_type": "code",
      "execution_count": null,
      "metadata": {
        "colab": {
          "base_uri": "https://localhost:8080/"
        },
        "id": "xRllynQh1uEV",
        "outputId": "98b85d83-73cd-4a4d-cd8a-0cbe741dfcaf"
      },
      "outputs": [
        {
          "name": "stdout",
          "output_type": "stream",
          "text": [
            "  % Total    % Received % Xferd  Average Speed   Time    Time     Time  Current\n",
            "                                 Dload  Upload   Total   Spent    Left  Speed\n",
            "100   894  100   894    0     0   2013      0 --:--:-- --:--:-- --:--:--  2013\n",
            "100 16.8M  100 16.8M    0     0  21.0M      0 --:--:-- --:--:-- --:--:-- 82.7M\n"
          ]
        }
      ],
      "source": [
        "!curl -L \"https://public.roboflow.com/ds/dK7QBUyf2y?key=tnz5phNGBO\" > chess-pieces.zip;  # csv\n",
        "\n",
        "\n",
        "#!curl -L \"https://public.roboflow.com/ds/yeRc0xFJsl?key=Aj33LH3RLO\" > chess-pieces.zip;  # pascal voc"
      ]
    },
    {
      "cell_type": "code",
      "execution_count": null,
      "metadata": {
        "id": "QsY419oykJjz"
      },
      "outputs": [],
      "source": [
        "import zipfile\n",
        "#with zipfile.ZipFile('100-bird-species.zip', 'r') as zip_ref:\n",
        "with zipfile.ZipFile('chess-pieces.zip', 'r') as zip_ref:\n",
        "    zip_ref.extractall('./')"
      ]
    },
    {
      "cell_type": "code",
      "execution_count": null,
      "metadata": {
        "id": "Nx92KG6MlISh"
      },
      "outputs": [],
      "source": [
        "nrows = 4\n",
        "ncols = 4\n",
        "#imagenames = os.listdir(os.path.join(\"train\", \"ABBOTTS BABBLER\"))\n",
        "imagenames = os.listdir(os.path.join(\"chess-pieces\", \"black bishop\"))\n",
        "\n",
        "fig = plt.gcf()\n",
        "fig.set_size_inches(ncols * 4, nrows * 4)\n",
        "\n",
        "#next_images = [os.path.join(os.path.join(\"train\", \"ABBOTTS BABBLER\"), fname) for fname in imagenames[:int(ncols*nrows)]]\n",
        "next_images = [os.path.join(os.path.join(\"chess-pieces\", \"black bishop\"), fname) for fname in imagenames[:int(ncols*nrows)]]\n",
        "\n",
        "for i, img_path in enumerate(next_images):\n",
        "    sp = plt.subplot(nrows, ncols, i + 1)\n",
        "    img = mpimg.imread(img_path)\n",
        "    plt.imshow(img)\n",
        "\n",
        "plt.show()"
      ]
    },
    {
      "cell_type": "code",
      "execution_count": null,
      "metadata": {
        "colab": {
          "base_uri": "https://localhost:8080/"
        },
        "id": "lANoNS_gtdH1",
        "outputId": "42235908-ca7e-4ce6-854f-8837a14c2834"
      },
      "outputs": [
        {
          "name": "stdout",
          "output_type": "stream",
          "text": [
            "INFO:tensorflow:Cache will be stored in /tmp/tmpp7fm6n0l with prefix filename train_d155c6d48da36cf8f5f39f5ad77b0b9d. Cache_prefix is /tmp/tmpp7fm6n0l/train_d155c6d48da36cf8f5f39f5ad77b0b9d\n",
            "INFO:tensorflow:Cache will be stored in /tmp/tmp_gw5jtlz with prefix filename val_d155c6d48da36cf8f5f39f5ad77b0b9d. Cache_prefix is /tmp/tmp_gw5jtlz/val_d155c6d48da36cf8f5f39f5ad77b0b9d\n",
            "INFO:tensorflow:Cache will be stored in /tmp/tmp2ibeuj7v with prefix filename test_d155c6d48da36cf8f5f39f5ad77b0b9d. Cache_prefix is /tmp/tmp2ibeuj7v/test_d155c6d48da36cf8f5f39f5ad77b0b9d\n",
            "INFO:tensorflow:On image 0\n",
            "INFO:tensorflow:On image 100\n",
            "INFO:tensorflow:On image 200\n",
            "INFO:tensorflow:On image 300\n",
            "INFO:tensorflow:On image 0\n",
            "INFO:tensorflow:On image 100\n",
            "INFO:tensorflow:On image 0\n",
            "INFO:tensorflow:On image 100\n"
          ]
        }
      ],
      "source": [
        "spec = model_spec.get('efficientdet_lite4')\n",
        "\n",
        "#data = DataLoader.from_folder('train')\n",
        "#data = DataLoader.from_folder('chess-pieces')\n",
        "#data = object_detector.DataLoader.from_csv(os.path.join(\"train\", \"_annotations.csv\"))\n",
        "\n",
        "train_data, validation_data, test_data = object_detector.DataLoader.from_csv(\"annotations.csv\")\n",
        "\n",
        "#train_data, test_data = data.split(0.9)\n",
        "\n",
        "#train_data, rest_data = data.split(0.8)\n",
        "#validation_data, test_data = rest_data.split(0.5)"
      ]
    },
    {
      "cell_type": "code",
      "execution_count": null,
      "metadata": {
        "id": "Ih4Wx44I482b"
      },
      "outputs": [],
      "source": [
        "plt.figure(figsize=(20,20))\n",
        "for i, (image, label) in enumerate(data.gen_dataset().unbatch().take(25)):\n",
        "  plt.subplot(5,5,i+1)\n",
        "  plt.xticks([])\n",
        "  plt.yticks([])\n",
        "  plt.grid(False)\n",
        "  plt.imshow(image.numpy(), cmap=plt.cm.gray)\n",
        "  plt.xlabel(data.index_to_label[label.numpy()])\n",
        "plt.show()"
      ]
    },
    {
      "cell_type": "code",
      "execution_count": null,
      "metadata": {
        "colab": {
          "base_uri": "https://localhost:8080/"
        },
        "id": "yRXMZbrwtyRD",
        "outputId": "f391e9a6-5f1a-4305-86dd-4007cd239aae"
      },
      "outputs": [
        {
          "name": "stdout",
          "output_type": "stream",
          "text": [
            "INFO:tensorflow:Retraining the models...\n",
            "Epoch 1/50\n",
            "47/47 [==============================] - 128s 2s/step - det_loss: 1.6360 - cls_loss: 1.1719 - box_loss: 0.0093 - reg_l2_loss: 0.0090 - loss: 1.6449 - learning_rate: 0.0090 - gradient_norm: 0.6900 - val_det_loss: 1.2006 - val_cls_loss: 0.9782 - val_box_loss: 0.0044 - val_reg_l2_loss: 0.0090 - val_loss: 1.2096\n",
            "Epoch 2/50\n",
            "47/47 [==============================] - 81s 2s/step - det_loss: 1.2135 - cls_loss: 0.9067 - box_loss: 0.0061 - reg_l2_loss: 0.0090 - loss: 1.2225 - learning_rate: 0.0100 - gradient_norm: 0.9602 - val_det_loss: 0.8606 - val_cls_loss: 0.6936 - val_box_loss: 0.0033 - val_reg_l2_loss: 0.0090 - val_loss: 0.8696\n",
            "Epoch 3/50\n",
            "47/47 [==============================] - 80s 2s/step - det_loss: 0.9815 - cls_loss: 0.7514 - box_loss: 0.0046 - reg_l2_loss: 0.0090 - loss: 0.9905 - learning_rate: 0.0099 - gradient_norm: 1.2355 - val_det_loss: 0.7091 - val_cls_loss: 0.5673 - val_box_loss: 0.0028 - val_reg_l2_loss: 0.0090 - val_loss: 0.7181\n",
            "Epoch 4/50\n",
            "47/47 [==============================] - 81s 2s/step - det_loss: 0.8835 - cls_loss: 0.6861 - box_loss: 0.0039 - reg_l2_loss: 0.0090 - loss: 0.8925 - learning_rate: 0.0099 - gradient_norm: 1.2418 - val_det_loss: 0.6539 - val_cls_loss: 0.5229 - val_box_loss: 0.0026 - val_reg_l2_loss: 0.0091 - val_loss: 0.6629\n",
            "Epoch 5/50\n",
            "47/47 [==============================] - ETA: 0s - det_loss: 0.8545 - cls_loss: 0.6553 - box_loss: 0.0040 - reg_l2_loss: 0.0091 - loss: 0.8636 - learning_rate: 0.0098 - gradient_norm: 1.3274loading annotations into memory...\n",
            "Done (t=0.01s)\n",
            "creating index...\n",
            "index created!\n",
            "Loading and preparing results...\n",
            "Converting ndarray to lists...\n",
            "(12000, 7)\n",
            "0/12000\n",
            "DONE (t=0.04s)\n",
            "creating index...\n",
            "index created!\n",
            "Running per image evaluation...\n",
            "Evaluate annotation type *bbox*\n",
            "DONE (t=1.31s).\n",
            "Accumulating evaluation results...\n",
            "DONE (t=0.27s).\n",
            " Average Precision  (AP) @[ IoU=0.50:0.95 | area=   all | maxDets=100 ] = 0.114\n",
            " Average Precision  (AP) @[ IoU=0.50      | area=   all | maxDets=100 ] = 0.217\n",
            " Average Precision  (AP) @[ IoU=0.75      | area=   all | maxDets=100 ] = 0.097\n",
            " Average Precision  (AP) @[ IoU=0.50:0.95 | area= small | maxDets=100 ] = 0.151\n",
            " Average Precision  (AP) @[ IoU=0.50:0.95 | area=medium | maxDets=100 ] = 0.125\n",
            " Average Precision  (AP) @[ IoU=0.50:0.95 | area= large | maxDets=100 ] = -1.000\n",
            " Average Recall     (AR) @[ IoU=0.50:0.95 | area=   all | maxDets=  1 ] = 0.087\n",
            " Average Recall     (AR) @[ IoU=0.50:0.95 | area=   all | maxDets= 10 ] = 0.234\n",
            " Average Recall     (AR) @[ IoU=0.50:0.95 | area=   all | maxDets=100 ] = 0.246\n",
            " Average Recall     (AR) @[ IoU=0.50:0.95 | area= small | maxDets=100 ] = 0.293\n",
            " Average Recall     (AR) @[ IoU=0.50:0.95 | area=medium | maxDets=100 ] = 0.243\n",
            " Average Recall     (AR) @[ IoU=0.50:0.95 | area= large | maxDets=100 ] = -1.000\n",
            "47/47 [==============================] - 109s 2s/step - det_loss: 0.8519 - cls_loss: 0.6534 - box_loss: 0.0040 - reg_l2_loss: 0.0091 - loss: 0.8609 - learning_rate: 0.0098 - gradient_norm: 1.3266 - val_det_loss: 0.6497 - val_cls_loss: 0.5150 - val_box_loss: 0.0027 - val_reg_l2_loss: 0.0091 - val_loss: 0.6588\n",
            "Epoch 6/50\n",
            "47/47 [==============================] - 81s 2s/step - det_loss: 0.8431 - cls_loss: 0.6502 - box_loss: 0.0039 - reg_l2_loss: 0.0091 - loss: 0.8522 - learning_rate: 0.0097 - gradient_norm: 1.3617 - val_det_loss: 0.6238 - val_cls_loss: 0.4816 - val_box_loss: 0.0028 - val_reg_l2_loss: 0.0091 - val_loss: 0.6329\n",
            "Epoch 7/50\n",
            "47/47 [==============================] - 81s 2s/step - det_loss: 0.7514 - cls_loss: 0.5638 - box_loss: 0.0038 - reg_l2_loss: 0.0091 - loss: 0.7605 - learning_rate: 0.0096 - gradient_norm: 1.4017 - val_det_loss: 0.5489 - val_cls_loss: 0.4258 - val_box_loss: 0.0025 - val_reg_l2_loss: 0.0091 - val_loss: 0.5580\n",
            "Epoch 8/50\n",
            "47/47 [==============================] - 80s 2s/step - det_loss: 0.7027 - cls_loss: 0.5271 - box_loss: 0.0035 - reg_l2_loss: 0.0091 - loss: 0.7118 - learning_rate: 0.0094 - gradient_norm: 1.2866 - val_det_loss: 0.5350 - val_cls_loss: 0.4055 - val_box_loss: 0.0026 - val_reg_l2_loss: 0.0091 - val_loss: 0.5441\n",
            "Epoch 9/50\n",
            "47/47 [==============================] - 80s 2s/step - det_loss: 0.6742 - cls_loss: 0.5023 - box_loss: 0.0034 - reg_l2_loss: 0.0091 - loss: 0.6833 - learning_rate: 0.0093 - gradient_norm: 1.4261 - val_det_loss: 0.4983 - val_cls_loss: 0.3840 - val_box_loss: 0.0023 - val_reg_l2_loss: 0.0092 - val_loss: 0.5075\n",
            "Epoch 10/50\n",
            "47/47 [==============================] - ETA: 0s - det_loss: 0.6455 - cls_loss: 0.4868 - box_loss: 0.0032 - reg_l2_loss: 0.0092 - loss: 0.6546 - learning_rate: 0.0091 - gradient_norm: 1.3602loading annotations into memory...\n",
            "Done (t=0.01s)\n",
            "creating index...\n",
            "index created!\n",
            "Loading and preparing results...\n",
            "Converting ndarray to lists...\n",
            "(12000, 7)\n",
            "0/12000\n",
            "DONE (t=0.04s)\n",
            "creating index...\n",
            "index created!\n",
            "Running per image evaluation...\n",
            "Evaluate annotation type *bbox*\n",
            "DONE (t=1.23s).\n",
            "Accumulating evaluation results...\n",
            "DONE (t=0.28s).\n",
            " Average Precision  (AP) @[ IoU=0.50:0.95 | area=   all | maxDets=100 ] = 0.249\n",
            " Average Precision  (AP) @[ IoU=0.50      | area=   all | maxDets=100 ] = 0.424\n",
            " Average Precision  (AP) @[ IoU=0.75      | area=   all | maxDets=100 ] = 0.280\n",
            " Average Precision  (AP) @[ IoU=0.50:0.95 | area= small | maxDets=100 ] = 0.261\n",
            " Average Precision  (AP) @[ IoU=0.50:0.95 | area=medium | maxDets=100 ] = 0.265\n",
            " Average Precision  (AP) @[ IoU=0.50:0.95 | area= large | maxDets=100 ] = -1.000\n",
            " Average Recall     (AR) @[ IoU=0.50:0.95 | area=   all | maxDets=  1 ] = 0.224\n",
            " Average Recall     (AR) @[ IoU=0.50:0.95 | area=   all | maxDets= 10 ] = 0.507\n",
            " Average Recall     (AR) @[ IoU=0.50:0.95 | area=   all | maxDets=100 ] = 0.518\n",
            " Average Recall     (AR) @[ IoU=0.50:0.95 | area= small | maxDets=100 ] = 0.467\n",
            " Average Recall     (AR) @[ IoU=0.50:0.95 | area=medium | maxDets=100 ] = 0.529\n",
            " Average Recall     (AR) @[ IoU=0.50:0.95 | area= large | maxDets=100 ] = -1.000\n",
            "47/47 [==============================] - 99s 2s/step - det_loss: 0.6446 - cls_loss: 0.4858 - box_loss: 0.0032 - reg_l2_loss: 0.0092 - loss: 0.6537 - learning_rate: 0.0091 - gradient_norm: 1.3578 - val_det_loss: 0.4865 - val_cls_loss: 0.3695 - val_box_loss: 0.0023 - val_reg_l2_loss: 0.0092 - val_loss: 0.4957\n",
            "Epoch 11/50\n",
            "47/47 [==============================] - 80s 2s/step - det_loss: 0.6238 - cls_loss: 0.4640 - box_loss: 0.0032 - reg_l2_loss: 0.0092 - loss: 0.6330 - learning_rate: 0.0089 - gradient_norm: 1.4077 - val_det_loss: 0.5405 - val_cls_loss: 0.4113 - val_box_loss: 0.0026 - val_reg_l2_loss: 0.0092 - val_loss: 0.5497\n",
            "Epoch 12/50\n",
            "47/47 [==============================] - 81s 2s/step - det_loss: 0.6066 - cls_loss: 0.4487 - box_loss: 0.0032 - reg_l2_loss: 0.0092 - loss: 0.6158 - learning_rate: 0.0087 - gradient_norm: 1.4147 - val_det_loss: 0.4707 - val_cls_loss: 0.3518 - val_box_loss: 0.0024 - val_reg_l2_loss: 0.0092 - val_loss: 0.4799\n",
            "Epoch 13/50\n",
            "47/47 [==============================] - 80s 2s/step - det_loss: 0.5795 - cls_loss: 0.4301 - box_loss: 0.0030 - reg_l2_loss: 0.0092 - loss: 0.5887 - learning_rate: 0.0085 - gradient_norm: 1.3259 - val_det_loss: 0.4846 - val_cls_loss: 0.3657 - val_box_loss: 0.0024 - val_reg_l2_loss: 0.0092 - val_loss: 0.4938\n",
            "Epoch 14/50\n",
            "47/47 [==============================] - 80s 2s/step - det_loss: 0.5890 - cls_loss: 0.4374 - box_loss: 0.0030 - reg_l2_loss: 0.0092 - loss: 0.5982 - learning_rate: 0.0082 - gradient_norm: 1.5340 - val_det_loss: 0.4553 - val_cls_loss: 0.3499 - val_box_loss: 0.0021 - val_reg_l2_loss: 0.0093 - val_loss: 0.4646\n",
            "Epoch 15/50\n",
            "47/47 [==============================] - ETA: 0s - det_loss: 0.5591 - cls_loss: 0.4131 - box_loss: 0.0029 - reg_l2_loss: 0.0093 - loss: 0.5683 - learning_rate: 0.0080 - gradient_norm: 1.2549loading annotations into memory...\n",
            "Done (t=0.01s)\n",
            "creating index...\n",
            "index created!\n",
            "Loading and preparing results...\n",
            "Converting ndarray to lists...\n",
            "(12000, 7)\n",
            "0/12000\n",
            "DONE (t=0.04s)\n",
            "creating index...\n",
            "index created!\n",
            "Running per image evaluation...\n",
            "Evaluate annotation type *bbox*\n",
            "DONE (t=1.35s).\n",
            "Accumulating evaluation results...\n",
            "DONE (t=0.29s).\n",
            " Average Precision  (AP) @[ IoU=0.50:0.95 | area=   all | maxDets=100 ] = 0.332\n",
            " Average Precision  (AP) @[ IoU=0.50      | area=   all | maxDets=100 ] = 0.609\n",
            " Average Precision  (AP) @[ IoU=0.75      | area=   all | maxDets=100 ] = 0.313\n",
            " Average Precision  (AP) @[ IoU=0.50:0.95 | area= small | maxDets=100 ] = 0.276\n",
            " Average Precision  (AP) @[ IoU=0.50:0.95 | area=medium | maxDets=100 ] = 0.340\n",
            " Average Precision  (AP) @[ IoU=0.50:0.95 | area= large | maxDets=100 ] = -1.000\n",
            " Average Recall     (AR) @[ IoU=0.50:0.95 | area=   all | maxDets=  1 ] = 0.293\n",
            " Average Recall     (AR) @[ IoU=0.50:0.95 | area=   all | maxDets= 10 ] = 0.537\n",
            " Average Recall     (AR) @[ IoU=0.50:0.95 | area=   all | maxDets=100 ] = 0.542\n",
            " Average Recall     (AR) @[ IoU=0.50:0.95 | area= small | maxDets=100 ] = 0.417\n",
            " Average Recall     (AR) @[ IoU=0.50:0.95 | area=medium | maxDets=100 ] = 0.543\n",
            " Average Recall     (AR) @[ IoU=0.50:0.95 | area= large | maxDets=100 ] = -1.000\n",
            "47/47 [==============================] - 100s 2s/step - det_loss: 0.5570 - cls_loss: 0.4117 - box_loss: 0.0029 - reg_l2_loss: 0.0093 - loss: 0.5662 - learning_rate: 0.0080 - gradient_norm: 1.2499 - val_det_loss: 0.4644 - val_cls_loss: 0.3329 - val_box_loss: 0.0026 - val_reg_l2_loss: 0.0093 - val_loss: 0.4737\n",
            "Epoch 16/50\n",
            "47/47 [==============================] - 80s 2s/step - det_loss: 0.5403 - cls_loss: 0.3987 - box_loss: 0.0028 - reg_l2_loss: 0.0093 - loss: 0.5496 - learning_rate: 0.0077 - gradient_norm: 1.2886 - val_det_loss: 0.4116 - val_cls_loss: 0.3062 - val_box_loss: 0.0021 - val_reg_l2_loss: 0.0093 - val_loss: 0.4209\n",
            "Epoch 17/50\n",
            "47/47 [==============================] - 81s 2s/step - det_loss: 0.5353 - cls_loss: 0.3873 - box_loss: 0.0030 - reg_l2_loss: 0.0093 - loss: 0.5446 - learning_rate: 0.0075 - gradient_norm: 1.3815 - val_det_loss: 0.3962 - val_cls_loss: 0.2962 - val_box_loss: 0.0020 - val_reg_l2_loss: 0.0093 - val_loss: 0.4055\n",
            "Epoch 18/50\n",
            "47/47 [==============================] - 81s 2s/step - det_loss: 0.5711 - cls_loss: 0.4254 - box_loss: 0.0029 - reg_l2_loss: 0.0093 - loss: 0.5803 - learning_rate: 0.0072 - gradient_norm: 1.5587 - val_det_loss: 0.4130 - val_cls_loss: 0.3048 - val_box_loss: 0.0022 - val_reg_l2_loss: 0.0093 - val_loss: 0.4223\n",
            "Epoch 19/50\n",
            "47/47 [==============================] - 81s 2s/step - det_loss: 0.5336 - cls_loss: 0.3983 - box_loss: 0.0027 - reg_l2_loss: 0.0093 - loss: 0.5429 - learning_rate: 0.0069 - gradient_norm: 1.3015 - val_det_loss: 0.4086 - val_cls_loss: 0.3125 - val_box_loss: 0.0019 - val_reg_l2_loss: 0.0093 - val_loss: 0.4180\n",
            "Epoch 20/50\n",
            "47/47 [==============================] - ETA: 0s - det_loss: 0.5401 - cls_loss: 0.3998 - box_loss: 0.0028 - reg_l2_loss: 0.0093 - loss: 0.5494 - learning_rate: 0.0066 - gradient_norm: 1.4450loading annotations into memory...\n",
            "Done (t=0.01s)\n",
            "creating index...\n",
            "index created!\n",
            "Loading and preparing results...\n",
            "Converting ndarray to lists...\n",
            "(12000, 7)\n",
            "0/12000\n",
            "DONE (t=0.69s)\n",
            "creating index...\n",
            "index created!\n",
            "Running per image evaluation...\n",
            "Evaluate annotation type *bbox*\n",
            "DONE (t=1.36s).\n",
            "Accumulating evaluation results...\n",
            "DONE (t=0.31s).\n",
            " Average Precision  (AP) @[ IoU=0.50:0.95 | area=   all | maxDets=100 ] = 0.461\n",
            " Average Precision  (AP) @[ IoU=0.50      | area=   all | maxDets=100 ] = 0.723\n",
            " Average Precision  (AP) @[ IoU=0.75      | area=   all | maxDets=100 ] = 0.554\n",
            " Average Precision  (AP) @[ IoU=0.50:0.95 | area= small | maxDets=100 ] = 0.332\n",
            " Average Precision  (AP) @[ IoU=0.50:0.95 | area=medium | maxDets=100 ] = 0.469\n",
            " Average Precision  (AP) @[ IoU=0.50:0.95 | area= large | maxDets=100 ] = -1.000\n",
            " Average Recall     (AR) @[ IoU=0.50:0.95 | area=   all | maxDets=  1 ] = 0.373\n",
            " Average Recall     (AR) @[ IoU=0.50:0.95 | area=   all | maxDets= 10 ] = 0.623\n",
            " Average Recall     (AR) @[ IoU=0.50:0.95 | area=   all | maxDets=100 ] = 0.626\n",
            " Average Recall     (AR) @[ IoU=0.50:0.95 | area= small | maxDets=100 ] = 0.479\n",
            " Average Recall     (AR) @[ IoU=0.50:0.95 | area=medium | maxDets=100 ] = 0.631\n",
            " Average Recall     (AR) @[ IoU=0.50:0.95 | area= large | maxDets=100 ] = -1.000\n",
            "47/47 [==============================] - 99s 2s/step - det_loss: 0.5383 - cls_loss: 0.3983 - box_loss: 0.0028 - reg_l2_loss: 0.0093 - loss: 0.5476 - learning_rate: 0.0066 - gradient_norm: 1.4412 - val_det_loss: 0.3862 - val_cls_loss: 0.2899 - val_box_loss: 0.0019 - val_reg_l2_loss: 0.0093 - val_loss: 0.3955\n",
            "Epoch 21/50\n",
            "47/47 [==============================] - 80s 2s/step - det_loss: 0.5313 - cls_loss: 0.3980 - box_loss: 0.0027 - reg_l2_loss: 0.0093 - loss: 0.5406 - learning_rate: 0.0063 - gradient_norm: 1.4663 - val_det_loss: 0.4126 - val_cls_loss: 0.3176 - val_box_loss: 0.0019 - val_reg_l2_loss: 0.0093 - val_loss: 0.4220\n",
            "Epoch 22/50\n",
            "47/47 [==============================] - 80s 2s/step - det_loss: 0.4827 - cls_loss: 0.3584 - box_loss: 0.0025 - reg_l2_loss: 0.0093 - loss: 0.4921 - learning_rate: 0.0060 - gradient_norm: 1.1549 - val_det_loss: 0.3758 - val_cls_loss: 0.2854 - val_box_loss: 0.0018 - val_reg_l2_loss: 0.0093 - val_loss: 0.3851\n",
            "Epoch 23/50\n",
            "47/47 [==============================] - 81s 2s/step - det_loss: 0.4826 - cls_loss: 0.3544 - box_loss: 0.0026 - reg_l2_loss: 0.0093 - loss: 0.4919 - learning_rate: 0.0056 - gradient_norm: 1.1852 - val_det_loss: 0.3793 - val_cls_loss: 0.2828 - val_box_loss: 0.0019 - val_reg_l2_loss: 0.0094 - val_loss: 0.3886\n",
            "Epoch 24/50\n",
            "47/47 [==============================] - 80s 2s/step - det_loss: 0.5058 - cls_loss: 0.3734 - box_loss: 0.0026 - reg_l2_loss: 0.0094 - loss: 0.5152 - learning_rate: 0.0053 - gradient_norm: 1.4467 - val_det_loss: 0.3956 - val_cls_loss: 0.2913 - val_box_loss: 0.0021 - val_reg_l2_loss: 0.0094 - val_loss: 0.4050\n",
            "Epoch 25/50\n",
            "47/47 [==============================] - ETA: 0s - det_loss: 0.4991 - cls_loss: 0.3673 - box_loss: 0.0026 - reg_l2_loss: 0.0094 - loss: 0.5085 - learning_rate: 0.0050 - gradient_norm: 1.3532loading annotations into memory...\n",
            "Done (t=0.01s)\n",
            "creating index...\n",
            "index created!\n",
            "Loading and preparing results...\n",
            "Converting ndarray to lists...\n",
            "(12000, 7)\n",
            "0/12000\n",
            "DONE (t=0.04s)\n",
            "creating index...\n",
            "index created!\n",
            "Running per image evaluation...\n",
            "Evaluate annotation type *bbox*\n",
            "DONE (t=2.05s).\n",
            "Accumulating evaluation results...\n",
            "DONE (t=0.29s).\n",
            " Average Precision  (AP) @[ IoU=0.50:0.95 | area=   all | maxDets=100 ] = 0.458\n",
            " Average Precision  (AP) @[ IoU=0.50      | area=   all | maxDets=100 ] = 0.754\n",
            " Average Precision  (AP) @[ IoU=0.75      | area=   all | maxDets=100 ] = 0.520\n",
            " Average Precision  (AP) @[ IoU=0.50:0.95 | area= small | maxDets=100 ] = 0.343\n",
            " Average Precision  (AP) @[ IoU=0.50:0.95 | area=medium | maxDets=100 ] = 0.469\n",
            " Average Precision  (AP) @[ IoU=0.50:0.95 | area= large | maxDets=100 ] = -1.000\n",
            " Average Recall     (AR) @[ IoU=0.50:0.95 | area=   all | maxDets=  1 ] = 0.390\n",
            " Average Recall     (AR) @[ IoU=0.50:0.95 | area=   all | maxDets= 10 ] = 0.634\n",
            " Average Recall     (AR) @[ IoU=0.50:0.95 | area=   all | maxDets=100 ] = 0.639\n",
            " Average Recall     (AR) @[ IoU=0.50:0.95 | area= small | maxDets=100 ] = 0.683\n",
            " Average Recall     (AR) @[ IoU=0.50:0.95 | area=medium | maxDets=100 ] = 0.638\n",
            " Average Recall     (AR) @[ IoU=0.50:0.95 | area= large | maxDets=100 ] = -1.000\n",
            "47/47 [==============================] - 99s 2s/step - det_loss: 0.5003 - cls_loss: 0.3678 - box_loss: 0.0026 - reg_l2_loss: 0.0094 - loss: 0.5096 - learning_rate: 0.0050 - gradient_norm: 1.3539 - val_det_loss: 0.3992 - val_cls_loss: 0.2952 - val_box_loss: 0.0021 - val_reg_l2_loss: 0.0094 - val_loss: 0.4086\n",
            "Epoch 26/50\n",
            "47/47 [==============================] - 80s 2s/step - det_loss: 0.5032 - cls_loss: 0.3709 - box_loss: 0.0026 - reg_l2_loss: 0.0094 - loss: 0.5126 - learning_rate: 0.0047 - gradient_norm: 1.3389 - val_det_loss: 0.3752 - val_cls_loss: 0.2759 - val_box_loss: 0.0020 - val_reg_l2_loss: 0.0094 - val_loss: 0.3845\n",
            "Epoch 27/50\n",
            "47/47 [==============================] - 81s 2s/step - det_loss: 0.4751 - cls_loss: 0.3504 - box_loss: 0.0025 - reg_l2_loss: 0.0094 - loss: 0.4844 - learning_rate: 0.0044 - gradient_norm: 1.2952 - val_det_loss: 0.3708 - val_cls_loss: 0.2778 - val_box_loss: 0.0019 - val_reg_l2_loss: 0.0094 - val_loss: 0.3802\n",
            "Epoch 28/50\n",
            "47/47 [==============================] - 81s 2s/step - det_loss: 0.4822 - cls_loss: 0.3571 - box_loss: 0.0025 - reg_l2_loss: 0.0094 - loss: 0.4916 - learning_rate: 0.0040 - gradient_norm: 1.4448 - val_det_loss: 0.3843 - val_cls_loss: 0.2929 - val_box_loss: 0.0018 - val_reg_l2_loss: 0.0094 - val_loss: 0.3937\n",
            "Epoch 29/50\n",
            "47/47 [==============================] - 80s 2s/step - det_loss: 0.4739 - cls_loss: 0.3474 - box_loss: 0.0025 - reg_l2_loss: 0.0094 - loss: 0.4833 - learning_rate: 0.0037 - gradient_norm: 1.2585 - val_det_loss: 0.3692 - val_cls_loss: 0.2699 - val_box_loss: 0.0020 - val_reg_l2_loss: 0.0094 - val_loss: 0.3786\n",
            "Epoch 30/50\n",
            "47/47 [==============================] - ETA: 0s - det_loss: 0.4686 - cls_loss: 0.3449 - box_loss: 0.0025 - reg_l2_loss: 0.0094 - loss: 0.4780 - learning_rate: 0.0034 - gradient_norm: 1.3407loading annotations into memory...\n",
            "Done (t=0.01s)\n",
            "creating index...\n",
            "index created!\n",
            "Loading and preparing results...\n",
            "Converting ndarray to lists...\n",
            "(12000, 7)\n",
            "0/12000\n",
            "DONE (t=0.04s)\n",
            "creating index...\n",
            "index created!\n",
            "Running per image evaluation...\n",
            "Evaluate annotation type *bbox*\n",
            "DONE (t=1.26s).\n",
            "Accumulating evaluation results...\n",
            "DONE (t=0.29s).\n",
            " Average Precision  (AP) @[ IoU=0.50:0.95 | area=   all | maxDets=100 ] = 0.503\n",
            " Average Precision  (AP) @[ IoU=0.50      | area=   all | maxDets=100 ] = 0.818\n",
            " Average Precision  (AP) @[ IoU=0.75      | area=   all | maxDets=100 ] = 0.578\n",
            " Average Precision  (AP) @[ IoU=0.50:0.95 | area= small | maxDets=100 ] = 0.320\n",
            " Average Precision  (AP) @[ IoU=0.50:0.95 | area=medium | maxDets=100 ] = 0.511\n",
            " Average Precision  (AP) @[ IoU=0.50:0.95 | area= large | maxDets=100 ] = -1.000\n",
            " Average Recall     (AR) @[ IoU=0.50:0.95 | area=   all | maxDets=  1 ] = 0.421\n",
            " Average Recall     (AR) @[ IoU=0.50:0.95 | area=   all | maxDets= 10 ] = 0.642\n",
            " Average Recall     (AR) @[ IoU=0.50:0.95 | area=   all | maxDets=100 ] = 0.646\n",
            " Average Recall     (AR) @[ IoU=0.50:0.95 | area= small | maxDets=100 ] = 0.487\n",
            " Average Recall     (AR) @[ IoU=0.50:0.95 | area=medium | maxDets=100 ] = 0.651\n",
            " Average Recall     (AR) @[ IoU=0.50:0.95 | area= large | maxDets=100 ] = -1.000\n",
            "47/47 [==============================] - 98s 2s/step - det_loss: 0.4669 - cls_loss: 0.3437 - box_loss: 0.0025 - reg_l2_loss: 0.0094 - loss: 0.4763 - learning_rate: 0.0034 - gradient_norm: 1.3367 - val_det_loss: 0.3657 - val_cls_loss: 0.2707 - val_box_loss: 0.0019 - val_reg_l2_loss: 0.0094 - val_loss: 0.3751\n",
            "Epoch 31/50\n",
            "47/47 [==============================] - 81s 2s/step - det_loss: 0.4760 - cls_loss: 0.3500 - box_loss: 0.0025 - reg_l2_loss: 0.0094 - loss: 0.4854 - learning_rate: 0.0031 - gradient_norm: 1.4212 - val_det_loss: 0.3503 - val_cls_loss: 0.2601 - val_box_loss: 0.0018 - val_reg_l2_loss: 0.0094 - val_loss: 0.3597\n",
            "Epoch 32/50\n",
            "47/47 [==============================] - 81s 2s/step - det_loss: 0.4601 - cls_loss: 0.3387 - box_loss: 0.0024 - reg_l2_loss: 0.0094 - loss: 0.4695 - learning_rate: 0.0028 - gradient_norm: 1.2564 - val_det_loss: 0.3505 - val_cls_loss: 0.2608 - val_box_loss: 0.0018 - val_reg_l2_loss: 0.0094 - val_loss: 0.3599\n",
            "Epoch 33/50\n",
            "47/47 [==============================] - 80s 2s/step - det_loss: 0.4461 - cls_loss: 0.3245 - box_loss: 0.0024 - reg_l2_loss: 0.0094 - loss: 0.4555 - learning_rate: 0.0025 - gradient_norm: 1.2712 - val_det_loss: 0.3495 - val_cls_loss: 0.2580 - val_box_loss: 0.0018 - val_reg_l2_loss: 0.0094 - val_loss: 0.3589\n",
            "Epoch 34/50\n",
            "47/47 [==============================] - 81s 2s/step - det_loss: 0.4778 - cls_loss: 0.3513 - box_loss: 0.0025 - reg_l2_loss: 0.0094 - loss: 0.4873 - learning_rate: 0.0023 - gradient_norm: 1.3488 - val_det_loss: 0.3544 - val_cls_loss: 0.2587 - val_box_loss: 0.0019 - val_reg_l2_loss: 0.0094 - val_loss: 0.3638\n",
            "Epoch 35/50\n",
            "47/47 [==============================] - ETA: 0s - det_loss: 0.4756 - cls_loss: 0.3467 - box_loss: 0.0026 - reg_l2_loss: 0.0094 - loss: 0.4850 - learning_rate: 0.0020 - gradient_norm: 1.3406loading annotations into memory...\n",
            "Done (t=0.01s)\n",
            "creating index...\n",
            "index created!\n",
            "Loading and preparing results...\n",
            "Converting ndarray to lists...\n",
            "(12000, 7)\n",
            "0/12000\n",
            "DONE (t=0.04s)\n",
            "creating index...\n",
            "index created!\n",
            "Running per image evaluation...\n",
            "Evaluate annotation type *bbox*\n",
            "DONE (t=1.31s).\n",
            "Accumulating evaluation results...\n",
            "DONE (t=0.29s).\n",
            " Average Precision  (AP) @[ IoU=0.50:0.95 | area=   all | maxDets=100 ] = 0.527\n",
            " Average Precision  (AP) @[ IoU=0.50      | area=   all | maxDets=100 ] = 0.830\n",
            " Average Precision  (AP) @[ IoU=0.75      | area=   all | maxDets=100 ] = 0.639\n",
            " Average Precision  (AP) @[ IoU=0.50:0.95 | area= small | maxDets=100 ] = 0.358\n",
            " Average Precision  (AP) @[ IoU=0.50:0.95 | area=medium | maxDets=100 ] = 0.535\n",
            " Average Precision  (AP) @[ IoU=0.50:0.95 | area= large | maxDets=100 ] = -1.000\n",
            " Average Recall     (AR) @[ IoU=0.50:0.95 | area=   all | maxDets=  1 ] = 0.432\n",
            " Average Recall     (AR) @[ IoU=0.50:0.95 | area=   all | maxDets= 10 ] = 0.670\n",
            " Average Recall     (AR) @[ IoU=0.50:0.95 | area=   all | maxDets=100 ] = 0.672\n",
            " Average Recall     (AR) @[ IoU=0.50:0.95 | area= small | maxDets=100 ] = 0.534\n",
            " Average Recall     (AR) @[ IoU=0.50:0.95 | area=medium | maxDets=100 ] = 0.676\n",
            " Average Recall     (AR) @[ IoU=0.50:0.95 | area= large | maxDets=100 ] = -1.000\n",
            "47/47 [==============================] - 99s 2s/step - det_loss: 0.4752 - cls_loss: 0.3462 - box_loss: 0.0026 - reg_l2_loss: 0.0094 - loss: 0.4846 - learning_rate: 0.0020 - gradient_norm: 1.3371 - val_det_loss: 0.3492 - val_cls_loss: 0.2551 - val_box_loss: 0.0019 - val_reg_l2_loss: 0.0094 - val_loss: 0.3586\n",
            "Epoch 36/50\n",
            "47/47 [==============================] - 81s 2s/step - det_loss: 0.4622 - cls_loss: 0.3378 - box_loss: 0.0025 - reg_l2_loss: 0.0094 - loss: 0.4716 - learning_rate: 0.0018 - gradient_norm: 1.2772 - val_det_loss: 0.3412 - val_cls_loss: 0.2531 - val_box_loss: 0.0018 - val_reg_l2_loss: 0.0094 - val_loss: 0.3506\n",
            "Epoch 37/50\n",
            "47/47 [==============================] - 81s 2s/step - det_loss: 0.4588 - cls_loss: 0.3370 - box_loss: 0.0024 - reg_l2_loss: 0.0094 - loss: 0.4682 - learning_rate: 0.0015 - gradient_norm: 1.3378 - val_det_loss: 0.3402 - val_cls_loss: 0.2518 - val_box_loss: 0.0018 - val_reg_l2_loss: 0.0094 - val_loss: 0.3496\n",
            "Epoch 38/50\n",
            "47/47 [==============================] - 81s 2s/step - det_loss: 0.4343 - cls_loss: 0.3193 - box_loss: 0.0023 - reg_l2_loss: 0.0094 - loss: 0.4437 - learning_rate: 0.0013 - gradient_norm: 1.2321 - val_det_loss: 0.3441 - val_cls_loss: 0.2554 - val_box_loss: 0.0018 - val_reg_l2_loss: 0.0094 - val_loss: 0.3535\n",
            "Epoch 39/50\n",
            "47/47 [==============================] - 81s 2s/step - det_loss: 0.4591 - cls_loss: 0.3380 - box_loss: 0.0024 - reg_l2_loss: 0.0094 - loss: 0.4685 - learning_rate: 0.0011 - gradient_norm: 1.3598 - val_det_loss: 0.3456 - val_cls_loss: 0.2564 - val_box_loss: 0.0018 - val_reg_l2_loss: 0.0094 - val_loss: 0.3550\n",
            "Epoch 40/50\n",
            "47/47 [==============================] - ETA: 0s - det_loss: 0.4554 - cls_loss: 0.3336 - box_loss: 0.0024 - reg_l2_loss: 0.0094 - loss: 0.4649 - learning_rate: 9.0179e-04 - gradient_norm: 1.3468loading annotations into memory...\n",
            "Done (t=0.01s)\n",
            "creating index...\n",
            "index created!\n",
            "Loading and preparing results...\n",
            "Converting ndarray to lists...\n",
            "(12000, 7)\n",
            "0/12000\n",
            "DONE (t=0.05s)\n",
            "creating index...\n",
            "index created!\n",
            "Running per image evaluation...\n",
            "Evaluate annotation type *bbox*\n",
            "DONE (t=1.29s).\n",
            "Accumulating evaluation results...\n",
            "DONE (t=0.30s).\n",
            " Average Precision  (AP) @[ IoU=0.50:0.95 | area=   all | maxDets=100 ] = 0.556\n",
            " Average Precision  (AP) @[ IoU=0.50      | area=   all | maxDets=100 ] = 0.843\n",
            " Average Precision  (AP) @[ IoU=0.75      | area=   all | maxDets=100 ] = 0.695\n",
            " Average Precision  (AP) @[ IoU=0.50:0.95 | area= small | maxDets=100 ] = 0.406\n",
            " Average Precision  (AP) @[ IoU=0.50:0.95 | area=medium | maxDets=100 ] = 0.563\n",
            " Average Precision  (AP) @[ IoU=0.50:0.95 | area= large | maxDets=100 ] = -1.000\n",
            " Average Recall     (AR) @[ IoU=0.50:0.95 | area=   all | maxDets=  1 ] = 0.447\n",
            " Average Recall     (AR) @[ IoU=0.50:0.95 | area=   all | maxDets= 10 ] = 0.686\n",
            " Average Recall     (AR) @[ IoU=0.50:0.95 | area=   all | maxDets=100 ] = 0.689\n",
            " Average Recall     (AR) @[ IoU=0.50:0.95 | area= small | maxDets=100 ] = 0.677\n",
            " Average Recall     (AR) @[ IoU=0.50:0.95 | area=medium | maxDets=100 ] = 0.694\n",
            " Average Recall     (AR) @[ IoU=0.50:0.95 | area= large | maxDets=100 ] = -1.000\n",
            "47/47 [==============================] - 99s 2s/step - det_loss: 0.4559 - cls_loss: 0.3338 - box_loss: 0.0024 - reg_l2_loss: 0.0094 - loss: 0.4654 - learning_rate: 8.9995e-04 - gradient_norm: 1.3426 - val_det_loss: 0.3426 - val_cls_loss: 0.2540 - val_box_loss: 0.0018 - val_reg_l2_loss: 0.0094 - val_loss: 0.3520\n",
            "Epoch 41/50\n",
            "47/47 [==============================] - 80s 2s/step - det_loss: 0.4392 - cls_loss: 0.3231 - box_loss: 0.0023 - reg_l2_loss: 0.0094 - loss: 0.4486 - learning_rate: 7.2512e-04 - gradient_norm: 1.2673 - val_det_loss: 0.3387 - val_cls_loss: 0.2502 - val_box_loss: 0.0018 - val_reg_l2_loss: 0.0094 - val_loss: 0.3481\n",
            "Epoch 42/50\n",
            "47/47 [==============================] - 81s 2s/step - det_loss: 0.4496 - cls_loss: 0.3301 - box_loss: 0.0024 - reg_l2_loss: 0.0094 - loss: 0.4590 - learning_rate: 5.6786e-04 - gradient_norm: 1.2920 - val_det_loss: 0.3395 - val_cls_loss: 0.2528 - val_box_loss: 0.0017 - val_reg_l2_loss: 0.0094 - val_loss: 0.3490\n",
            "Epoch 43/50\n",
            "47/47 [==============================] - 81s 2s/step - det_loss: 0.4401 - cls_loss: 0.3227 - box_loss: 0.0023 - reg_l2_loss: 0.0094 - loss: 0.4495 - learning_rate: 4.2881e-04 - gradient_norm: 1.2981 - val_det_loss: 0.3391 - val_cls_loss: 0.2519 - val_box_loss: 0.0017 - val_reg_l2_loss: 0.0094 - val_loss: 0.3485\n",
            "Epoch 44/50\n",
            "47/47 [==============================] - 80s 2s/step - det_loss: 0.4326 - cls_loss: 0.3191 - box_loss: 0.0023 - reg_l2_loss: 0.0094 - loss: 0.4420 - learning_rate: 3.0854e-04 - gradient_norm: 1.2511 - val_det_loss: 0.3364 - val_cls_loss: 0.2496 - val_box_loss: 0.0017 - val_reg_l2_loss: 0.0094 - val_loss: 0.3458\n",
            "Epoch 45/50\n",
            "47/47 [==============================] - ETA: 0s - det_loss: 0.4609 - cls_loss: 0.3391 - box_loss: 0.0024 - reg_l2_loss: 0.0094 - loss: 0.4703 - learning_rate: 2.0845e-04 - gradient_norm: 1.3536loading annotations into memory...\n",
            "Done (t=0.01s)\n",
            "creating index...\n",
            "index created!\n",
            "Loading and preparing results...\n",
            "Converting ndarray to lists...\n",
            "(12000, 7)\n",
            "0/12000\n",
            "DONE (t=0.04s)\n",
            "creating index...\n",
            "index created!\n",
            "Running per image evaluation...\n",
            "Evaluate annotation type *bbox*\n",
            "DONE (t=1.28s).\n",
            "Accumulating evaluation results...\n",
            "DONE (t=0.29s).\n",
            " Average Precision  (AP) @[ IoU=0.50:0.95 | area=   all | maxDets=100 ] = 0.556\n",
            " Average Precision  (AP) @[ IoU=0.50      | area=   all | maxDets=100 ] = 0.848\n",
            " Average Precision  (AP) @[ IoU=0.75      | area=   all | maxDets=100 ] = 0.682\n",
            " Average Precision  (AP) @[ IoU=0.50:0.95 | area= small | maxDets=100 ] = 0.376\n",
            " Average Precision  (AP) @[ IoU=0.50:0.95 | area=medium | maxDets=100 ] = 0.563\n",
            " Average Precision  (AP) @[ IoU=0.50:0.95 | area= large | maxDets=100 ] = -1.000\n",
            " Average Recall     (AR) @[ IoU=0.50:0.95 | area=   all | maxDets=  1 ] = 0.453\n",
            " Average Recall     (AR) @[ IoU=0.50:0.95 | area=   all | maxDets= 10 ] = 0.691\n",
            " Average Recall     (AR) @[ IoU=0.50:0.95 | area=   all | maxDets=100 ] = 0.694\n",
            " Average Recall     (AR) @[ IoU=0.50:0.95 | area= small | maxDets=100 ] = 0.679\n",
            " Average Recall     (AR) @[ IoU=0.50:0.95 | area=medium | maxDets=100 ] = 0.697\n",
            " Average Recall     (AR) @[ IoU=0.50:0.95 | area= large | maxDets=100 ] = -1.000\n",
            "47/47 [==============================] - 99s 2s/step - det_loss: 0.4595 - cls_loss: 0.3380 - box_loss: 0.0024 - reg_l2_loss: 0.0094 - loss: 0.4689 - learning_rate: 2.0755e-04 - gradient_norm: 1.3602 - val_det_loss: 0.3379 - val_cls_loss: 0.2512 - val_box_loss: 0.0017 - val_reg_l2_loss: 0.0094 - val_loss: 0.3473\n",
            "Epoch 46/50\n",
            "47/47 [==============================] - 81s 2s/step - det_loss: 0.4424 - cls_loss: 0.3250 - box_loss: 0.0023 - reg_l2_loss: 0.0094 - loss: 0.4518 - learning_rate: 1.2626e-04 - gradient_norm: 1.3063 - val_det_loss: 0.3366 - val_cls_loss: 0.2502 - val_box_loss: 0.0017 - val_reg_l2_loss: 0.0094 - val_loss: 0.3460\n",
            "Epoch 47/50\n",
            "47/47 [==============================] - 81s 2s/step - det_loss: 0.4405 - cls_loss: 0.3234 - box_loss: 0.0023 - reg_l2_loss: 0.0094 - loss: 0.4499 - learning_rate: 6.4991e-05 - gradient_norm: 1.2872 - val_det_loss: 0.3363 - val_cls_loss: 0.2501 - val_box_loss: 0.0017 - val_reg_l2_loss: 0.0094 - val_loss: 0.3457\n",
            "Epoch 48/50\n",
            "47/47 [==============================] - 80s 2s/step - det_loss: 0.4555 - cls_loss: 0.3385 - box_loss: 0.0023 - reg_l2_loss: 0.0094 - loss: 0.4649 - learning_rate: 2.4002e-05 - gradient_norm: 1.3456 - val_det_loss: 0.3359 - val_cls_loss: 0.2498 - val_box_loss: 0.0017 - val_reg_l2_loss: 0.0094 - val_loss: 0.3453\n",
            "Epoch 49/50\n",
            "47/47 [==============================] - 80s 2s/step - det_loss: 0.4385 - cls_loss: 0.3227 - box_loss: 0.0023 - reg_l2_loss: 0.0094 - loss: 0.4479 - learning_rate: 3.4613e-06 - gradient_norm: 1.1809 - val_det_loss: 0.3365 - val_cls_loss: 0.2507 - val_box_loss: 0.0017 - val_reg_l2_loss: 0.0094 - val_loss: 0.3460\n",
            "Epoch 50/50\n",
            "47/47 [==============================] - ETA: 0s - det_loss: 0.4424 - cls_loss: 0.3263 - box_loss: 0.0023 - reg_l2_loss: 0.0094 - loss: 0.4518 - learning_rate: 3.3163e-06 - gradient_norm: 1.3119loading annotations into memory...\n",
            "Done (t=0.01s)\n",
            "creating index...\n",
            "index created!\n",
            "Loading and preparing results...\n",
            "Converting ndarray to lists...\n",
            "(12000, 7)\n",
            "0/12000\n",
            "DONE (t=0.04s)\n",
            "creating index...\n",
            "index created!\n",
            "Running per image evaluation...\n",
            "Evaluate annotation type *bbox*\n",
            "DONE (t=1.25s).\n",
            "Accumulating evaluation results...\n",
            "DONE (t=0.29s).\n",
            " Average Precision  (AP) @[ IoU=0.50:0.95 | area=   all | maxDets=100 ] = 0.557\n",
            " Average Precision  (AP) @[ IoU=0.50      | area=   all | maxDets=100 ] = 0.850\n",
            " Average Precision  (AP) @[ IoU=0.75      | area=   all | maxDets=100 ] = 0.686\n",
            " Average Precision  (AP) @[ IoU=0.50:0.95 | area= small | maxDets=100 ] = 0.386\n",
            " Average Precision  (AP) @[ IoU=0.50:0.95 | area=medium | maxDets=100 ] = 0.563\n",
            " Average Precision  (AP) @[ IoU=0.50:0.95 | area= large | maxDets=100 ] = -1.000\n",
            " Average Recall     (AR) @[ IoU=0.50:0.95 | area=   all | maxDets=  1 ] = 0.448\n",
            " Average Recall     (AR) @[ IoU=0.50:0.95 | area=   all | maxDets= 10 ] = 0.687\n",
            " Average Recall     (AR) @[ IoU=0.50:0.95 | area=   all | maxDets=100 ] = 0.689\n",
            " Average Recall     (AR) @[ IoU=0.50:0.95 | area= small | maxDets=100 ] = 0.681\n",
            " Average Recall     (AR) @[ IoU=0.50:0.95 | area=medium | maxDets=100 ] = 0.692\n",
            " Average Recall     (AR) @[ IoU=0.50:0.95 | area= large | maxDets=100 ] = -1.000\n",
            "47/47 [==============================] - 99s 2s/step - det_loss: 0.4409 - cls_loss: 0.3256 - box_loss: 0.0023 - reg_l2_loss: 0.0094 - loss: 0.4503 - learning_rate: 3.4522e-06 - gradient_norm: 1.3133 - val_det_loss: 0.3358 - val_cls_loss: 0.2496 - val_box_loss: 0.0017 - val_reg_l2_loss: 0.0094 - val_loss: 0.3452\n"
          ]
        }
      ],
      "source": [
        "#model = image_classifier.create(train_data, epochs=10)\n",
        "#model = image_classifier.create(train_data, validation_data=validation_data)\n",
        "model = object_detector.create(train_data, model_spec=spec, batch_size=8, train_whole_model=False, validation_data=validation_data)"
      ]
    },
    {
      "cell_type": "code",
      "execution_count": null,
      "metadata": {
        "colab": {
          "base_uri": "https://localhost:8080/"
        },
        "id": "wQr02VxJt6Cs",
        "outputId": "6a3788a4-29fe-4ddd-d71d-11a0cbd7f927"
      },
      "outputs": [
        {
          "name": "stdout",
          "output_type": "stream",
          "text": [
            "2/2 [==============================] - 58s 22s/step\n",
            "\n",
            "loading annotations into memory...\n",
            "Done (t=0.00s)\n",
            "creating index...\n",
            "index created!\n",
            "Loading and preparing results...\n",
            "Converting ndarray to lists...\n",
            "(10500, 7)\n",
            "0/10500\n",
            "DONE (t=0.04s)\n",
            "creating index...\n",
            "index created!\n",
            "Running per image evaluation...\n",
            "Evaluate annotation type *bbox*\n",
            "DONE (t=1.14s).\n",
            "Accumulating evaluation results...\n",
            "DONE (t=0.28s).\n",
            " Average Precision  (AP) @[ IoU=0.50:0.95 | area=   all | maxDets=100 ] = 0.535\n",
            " Average Precision  (AP) @[ IoU=0.50      | area=   all | maxDets=100 ] = 0.825\n",
            " Average Precision  (AP) @[ IoU=0.75      | area=   all | maxDets=100 ] = 0.651\n",
            " Average Precision  (AP) @[ IoU=0.50:0.95 | area= small | maxDets=100 ] = 0.471\n",
            " Average Precision  (AP) @[ IoU=0.50:0.95 | area=medium | maxDets=100 ] = 0.539\n",
            " Average Precision  (AP) @[ IoU=0.50:0.95 | area= large | maxDets=100 ] = -1.000\n",
            " Average Recall     (AR) @[ IoU=0.50:0.95 | area=   all | maxDets=  1 ] = 0.427\n",
            " Average Recall     (AR) @[ IoU=0.50:0.95 | area=   all | maxDets= 10 ] = 0.674\n",
            " Average Recall     (AR) @[ IoU=0.50:0.95 | area=   all | maxDets=100 ] = 0.677\n",
            " Average Recall     (AR) @[ IoU=0.50:0.95 | area= small | maxDets=100 ] = 0.607\n",
            " Average Recall     (AR) @[ IoU=0.50:0.95 | area=medium | maxDets=100 ] = 0.680\n",
            " Average Recall     (AR) @[ IoU=0.50:0.95 | area= large | maxDets=100 ] = -1.000\n"
          ]
        },
        {
          "data": {
            "text/plain": [
              "{'AP': 0.5347021,\n",
              " 'AP50': 0.8254617,\n",
              " 'AP75': 0.6514567,\n",
              " 'AP_/bishop': -1.0,\n",
              " 'AP_/black-bishop': 0.45304334,\n",
              " 'AP_/black-king': 0.64458585,\n",
              " 'AP_/black-knight': 0.5375624,\n",
              " 'AP_/black-pawn': 0.6156935,\n",
              " 'AP_/black-queen': 0.39348987,\n",
              " 'AP_/black-rook': 0.56167245,\n",
              " 'AP_/white-bishop': 0.45994717,\n",
              " 'AP_/white-king': 0.57714045,\n",
              " 'AP_/white-knight': 0.5525292,\n",
              " 'AP_/white-pawn': 0.62518066,\n",
              " 'AP_/white-queen': 0.43317562,\n",
              " 'AP_/white-rook': 0.5624048,\n",
              " 'APl': -1.0,\n",
              " 'APm': 0.5393473,\n",
              " 'APs': 0.4713641,\n",
              " 'ARl': -1.0,\n",
              " 'ARm': 0.68043715,\n",
              " 'ARmax1': 0.42663592,\n",
              " 'ARmax10': 0.673957,\n",
              " 'ARmax100': 0.6769308,\n",
              " 'ARs': 0.60651886}"
            ]
          },
          "execution_count": 6,
          "metadata": {},
          "output_type": "execute_result"
        }
      ],
      "source": [
        "#loss, accuracy = model.evaluate(test_data)\n",
        "\n",
        "model.evaluate(test_data)"
      ]
    },
    {
      "cell_type": "code",
      "execution_count": null,
      "metadata": {
        "id": "QNXAfjl192dC"
      },
      "outputs": [],
      "source": [
        "model.summary()"
      ]
    },
    {
      "cell_type": "code",
      "execution_count": null,
      "metadata": {
        "id": "n9O9Kx7nDQWD"
      },
      "outputs": [],
      "source": [
        "def get_label_color(val1, val2):\n",
        "  if val1 == val2:\n",
        "    return 'black'\n",
        "  else:\n",
        "    return 'red'\n",
        "\n",
        "plt.figure(figsize=(25, 20))\n",
        "predicts = model.predict_top_k(test_data)\n",
        "for i, (image, label) in enumerate(test_data.gen_dataset().unbatch().take(25)):\n",
        "  ax = plt.subplot(5, 5, i+1)\n",
        "  plt.xticks([])\n",
        "  plt.yticks([])\n",
        "  plt.grid(False)\n",
        "  plt.imshow(image.numpy(), cmap=plt.cm.gray)\n",
        "\n",
        "  predict_label = predicts[i][0][0]\n",
        "  color = get_label_color(predict_label,\n",
        "                          test_data.index_to_label[label.numpy()])\n",
        "  ax.xaxis.label.set_color(color)\n",
        "  plt.xlabel(predict_label)\n",
        "plt.show()"
      ]
    },
    {
      "cell_type": "code",
      "execution_count": null,
      "metadata": {
        "colab": {
          "base_uri": "https://localhost:8080/"
        },
        "id": "Zb-eIzfluCoa",
        "outputId": "1f595e72-fae0-4199-dbac-7589c5d733ba"
      },
      "outputs": [
        {
          "name": "stdout",
          "output_type": "stream",
          "text": [
            "WARNING:tensorflow:Skipping full serialization of Keras layer <tensorflow_examples.lite.model_maker.core.task.model_spec.object_detector_spec.ExportModel object at 0x7f69f032afd0>, because it is not built.\n"
          ]
        },
        {
          "name": "stderr",
          "output_type": "stream",
          "text": [
            "WARNING:tensorflow:Skipping full serialization of Keras layer <tensorflow_examples.lite.model_maker.core.task.model_spec.object_detector_spec.ExportModel object at 0x7f69f032afd0>, because it is not built.\n",
            "WARNING:absl:Found untraced functions such as restored_function_body, restored_function_body, restored_function_body, restored_function_body, restored_function_body while saving (showing 5 of 1028). These functions will not be directly callable after loading.\n"
          ]
        },
        {
          "name": "stdout",
          "output_type": "stream",
          "text": [
            "INFO:tensorflow:Assets written to: /tmp/tmp21s6yrlp/assets\n"
          ]
        },
        {
          "name": "stderr",
          "output_type": "stream",
          "text": [
            "INFO:tensorflow:Assets written to: /tmp/tmp21s6yrlp/assets\n"
          ]
        },
        {
          "name": "stdout",
          "output_type": "stream",
          "text": [
            "INFO:tensorflow:Label file is inside the TFLite model with metadata.\n"
          ]
        },
        {
          "name": "stderr",
          "output_type": "stream",
          "text": [
            "INFO:tensorflow:Label file is inside the TFLite model with metadata.\n"
          ]
        },
        {
          "name": "stdout",
          "output_type": "stream",
          "text": [
            "INFO:tensorflow:Saving labels in /tmp/tmpsf9mbk9m/labelmap.txt.\n"
          ]
        },
        {
          "name": "stderr",
          "output_type": "stream",
          "text": [
            "INFO:tensorflow:Saving labels in /tmp/tmpsf9mbk9m/labelmap.txt.\n"
          ]
        },
        {
          "name": "stdout",
          "output_type": "stream",
          "text": [
            "INFO:tensorflow:TensorFlow Lite model exported successfully: ./chess-piece-detector.tflite\n"
          ]
        },
        {
          "name": "stderr",
          "output_type": "stream",
          "text": [
            "INFO:tensorflow:TensorFlow Lite model exported successfully: ./chess-piece-detector.tflite\n"
          ]
        }
      ],
      "source": [
        "model.export(export_dir='.', tflite_filename='chess-piece-detector.tflite')"
      ]
    },
    {
      "cell_type": "code",
      "execution_count": null,
      "metadata": {
        "colab": {
          "background_save": true,
          "base_uri": "https://localhost:8080/"
        },
        "id": "f7orXyH8xo6O",
        "outputId": "fcab9214-172f-4140-98cd-f1b92638ff2e"
      },
      "outputs": [
        {
          "name": "stdout",
          "output_type": "stream",
          "text": [
            " 68/105 [==================>...........] - ETA: 32:37"
          ]
        }
      ],
      "source": [
        "model.evaluate_tflite('chess-piece-detector.tflite', test_data)"
      ]
    }
  ],
  "metadata": {
    "accelerator": "GPU",
    "colab": {
      "collapsed_sections": [],
      "name": "ChessPieceDetector",
      "provenance": []
    },
    "kernelspec": {
      "display_name": "Python 3",
      "name": "python3"
    }
  },
  "nbformat": 4,
  "nbformat_minor": 0
}